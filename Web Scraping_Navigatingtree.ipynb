{
 "cells": [
  {
   "cell_type": "code",
   "execution_count": 1,
   "metadata": {},
   "outputs": [],
   "source": [
    "#import the required library\n",
    "from bs4 import BeautifulSoup"
   ]
  },
  {
   "cell_type": "code",
   "execution_count": 2,
   "metadata": {},
   "outputs": [],
   "source": [
    "#create html document \n",
    "book_html_doc = \"\"\"<catalog> \n",
    "    <head><title>The web book catalog </title></head>\n",
    "    <p class=\"title\"><b>The Book Catalog</b></p>\n",
    "    <books>\n",
    "    \n",
    "    <book id=\"bk001\">\n",
    "    <author>Hightower, Kim</author>\n",
    "    <title>The First Book</title>\n",
    "      <genre>Fiction</genre>\n",
    "      <price>44.95</price>\n",
    "      <pub_date>2000-10-01</pub_date>\n",
    "      <review>An amazing story of nothing.</review>\n",
    "   </book>\n",
    "   \n",
    "   \n",
    "   <book id=\"bk002\">\n",
    "      <author>Nagata, Suanne</author>\n",
    "      <title>Becoming Somebody</title>\n",
    "      <genre>Biography</genre>\n",
    "      <review>A masterpiece of the fine art of gossiping.</review>\n",
    "   </book>\n",
    "   \n",
    "   \n",
    "   \n",
    "   <book id=\"bk003\">\n",
    "      <author>Oberg, Bruce</author>\n",
    "      <title>The Poet's First Poem</title>\n",
    "      <genre>Poem</genre>\n",
    "      <price>24.95</price>\n",
    "      <review>The least poetic poems of the decade.</review>\n",
    "   </book> \n",
    "   \n",
    "   </books>\n",
    "   </catalog>\"\"\""
   ]
  },
  {
   "cell_type": "code",
   "execution_count": 3,
   "metadata": {},
   "outputs": [],
   "source": [
    "booksoup=BeautifulSoup(book_html_doc,\"html.parser\")"
   ]
  },
  {
   "cell_type": "code",
   "execution_count": 4,
   "metadata": {},
   "outputs": [
    {
     "name": "stdout",
     "output_type": "stream",
     "text": [
      "<catalog>\n",
      "<head><title>The web book catalog </title></head>\n",
      "<p class=\"title\"><b>The Book Catalog</b></p>\n",
      "<books>\n",
      "<book id=\"bk001\">\n",
      "<author>Hightower, Kim</author>\n",
      "<title>The First Book</title>\n",
      "<genre>Fiction</genre>\n",
      "<price>44.95</price>\n",
      "<pub_date>2000-10-01</pub_date>\n",
      "<review>An amazing story of nothing.</review>\n",
      "</book>\n",
      "<book id=\"bk002\">\n",
      "<author>Nagata, Suanne</author>\n",
      "<title>Becoming Somebody</title>\n",
      "<genre>Biography</genre>\n",
      "<review>A masterpiece of the fine art of gossiping.</review>\n",
      "</book>\n",
      "<book id=\"bk003\">\n",
      "<author>Oberg, Bruce</author>\n",
      "<title>The Poet's First Poem</title>\n",
      "<genre>Poem</genre>\n",
      "<price>24.95</price>\n",
      "<review>The least poetic poems of the decade.</review>\n",
      "</book>\n",
      "</books>\n",
      "</catalog>\n"
     ]
    }
   ],
   "source": [
    "print(booksoup)"
   ]
  },
  {
   "cell_type": "code",
   "execution_count": 5,
   "metadata": {},
   "outputs": [
    {
     "name": "stdout",
     "output_type": "stream",
     "text": [
      "The web book catalog \n"
     ]
    }
   ],
   "source": [
    "print(booksoup.title.string)"
   ]
  },
  {
   "cell_type": "code",
   "execution_count": 6,
   "metadata": {},
   "outputs": [
    {
     "name": "stdout",
     "output_type": "stream",
     "text": [
      "\n",
      "The web book catalog \n",
      "The Book Catalog\n",
      "\n",
      "\n",
      "Hightower, Kim\n",
      "The First Book\n",
      "Fiction\n",
      "44.95\n",
      "2000-10-01\n",
      "An amazing story of nothing.\n",
      "\n",
      "\n",
      "Nagata, Suanne\n",
      "Becoming Somebody\n",
      "Biography\n",
      "A masterpiece of the fine art of gossiping.\n",
      "\n",
      "\n",
      "Oberg, Bruce\n",
      "The Poet's First Poem\n",
      "Poem\n",
      "24.95\n",
      "The least poetic poems of the decade.\n",
      "\n",
      "\n",
      "\n"
     ]
    }
   ],
   "source": [
    "print(booksoup.get_text())"
   ]
  },
  {
   "cell_type": "code",
   "execution_count": 7,
   "metadata": {},
   "outputs": [
    {
     "name": "stdout",
     "output_type": "stream",
     "text": [
      "The web book catalog\n",
      "The Book Catalog\n",
      "Hightower, Kim\n",
      "The First Book\n",
      "Fiction\n",
      "44.95\n",
      "2000-10-01\n",
      "An amazing story of nothing.\n",
      "Nagata, Suanne\n",
      "Becoming Somebody\n",
      "Biography\n",
      "A masterpiece of the fine art of gossiping.\n",
      "Oberg, Bruce\n",
      "The Poet's First Poem\n",
      "Poem\n",
      "24.95\n",
      "The least poetic poems of the decade.\n"
     ]
    }
   ],
   "source": [
    "# Remove the empty space\n",
    "for i in booksoup.stripped_strings:  #striioed string removes the space which is unwanted\n",
    "    print(i)"
   ]
  },
  {
   "cell_type": "code",
   "execution_count": 8,
   "metadata": {},
   "outputs": [
    {
     "data": {
      "text/plain": [
       "<book id=\"bk001\">\n",
       "<author>Hightower, Kim</author>\n",
       "<title>The First Book</title>\n",
       "<genre>Fiction</genre>\n",
       "<price>44.95</price>\n",
       "<pub_date>2000-10-01</pub_date>\n",
       "<review>An amazing story of nothing.</review>\n",
       "</book>"
      ]
     },
     "execution_count": 8,
     "metadata": {},
     "output_type": "execute_result"
    }
   ],
   "source": [
    "#craete a sibling object\n",
    "sibiling1=booksoup.catalog.books.book\n",
    "sibiling1\n"
   ]
  },
  {
   "cell_type": "code",
   "execution_count": 9,
   "metadata": {},
   "outputs": [
    {
     "data": {
      "text/plain": [
       "<book id=\"bk002\">\n",
       "<author>Nagata, Suanne</author>\n",
       "<title>Becoming Somebody</title>\n",
       "<genre>Biography</genre>\n",
       "<review>A masterpiece of the fine art of gossiping.</review>\n",
       "</book>"
      ]
     },
     "execution_count": 9,
     "metadata": {},
     "output_type": "execute_result"
    }
   ],
   "source": [
    "sibling2=sibiling1.next_sibling.next_sibling\n",
    "sibling2\n"
   ]
  },
  {
   "cell_type": "code",
   "execution_count": 10,
   "metadata": {},
   "outputs": [
    {
     "data": {
      "text/plain": [
       "<book id=\"bk003\">\n",
       "<author>Oberg, Bruce</author>\n",
       "<title>The Poet's First Poem</title>\n",
       "<genre>Poem</genre>\n",
       "<price>24.95</price>\n",
       "<review>The least poetic poems of the decade.</review>\n",
       "</book>"
      ]
     },
     "execution_count": 10,
     "metadata": {},
     "output_type": "execute_result"
    }
   ],
   "source": [
    "sibling3=sibling2.next_sibling.next_sibling\n",
    "sibling3"
   ]
  },
  {
   "cell_type": "code",
   "execution_count": 11,
   "metadata": {},
   "outputs": [
    {
     "data": {
      "text/plain": [
       "<book id=\"bk002\">\n",
       "<author>Nagata, Suanne</author>\n",
       "<title>Becoming Somebody</title>\n",
       "<genre>Biography</genre>\n",
       "<review>A masterpiece of the fine art of gossiping.</review>\n",
       "</book>"
      ]
     },
     "execution_count": 11,
     "metadata": {},
     "output_type": "execute_result"
    }
   ],
   "source": [
    "# previous Sibling\n",
    "\n",
    "previou=sibling3.previous_sibling.previous_sibling\n",
    "previou"
   ]
  },
  {
   "cell_type": "code",
   "execution_count": 12,
   "metadata": {},
   "outputs": [
    {
     "data": {
      "text/plain": [
       "<book id=\"bk001\">\n",
       "<author>Hightower, Kim</author>\n",
       "<title>The First Book</title>\n",
       "<genre>Fiction</genre>\n",
       "<price>44.95</price>\n",
       "<pub_date>2000-10-01</pub_date>\n",
       "<review>An amazing story of nothing.</review>\n",
       "</book>"
      ]
     },
     "execution_count": 12,
     "metadata": {},
     "output_type": "execute_result"
    }
   ],
   "source": [
    "first=previou.previous_sibling.previous_sibling\n",
    "first"
   ]
  },
  {
   "cell_type": "code",
   "execution_count": null,
   "metadata": {},
   "outputs": [],
   "source": []
  }
 ],
 "metadata": {
  "kernelspec": {
   "display_name": "Python 3",
   "language": "python",
   "name": "python3"
  },
  "language_info": {
   "codemirror_mode": {
    "name": "ipython",
    "version": 3
   },
   "file_extension": ".py",
   "mimetype": "text/x-python",
   "name": "python",
   "nbconvert_exporter": "python",
   "pygments_lexer": "ipython3",
   "version": "3.7.6"
  }
 },
 "nbformat": 4,
 "nbformat_minor": 4
}
