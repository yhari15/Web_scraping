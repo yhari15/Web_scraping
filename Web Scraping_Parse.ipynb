{
 "cells": [
  {
   "cell_type": "code",
   "execution_count": 1,
   "metadata": {},
   "outputs": [],
   "source": [
    "#import the required library\n",
    "from bs4 import BeautifulSoup"
   ]
  },
  {
   "cell_type": "code",
   "execution_count": 2,
   "metadata": {},
   "outputs": [],
   "source": [
    "#sample web document from www.simplilearn.com website\n",
    "data_SL = \"\"\"<ul class=\"content-col_discover\">\n",
    "        <h5>Discover</h5>\n",
    "        <li><a href=\"/resources\" id=\"free_resources\">Free resources</a></li>\n",
    "        <li><a href=\"http://community.simplilearn.com/\" id=\"community\">Simplilearn community</a></li>\n",
    "        <li><a href=\"/career-data-labs\" id=\"lab\">Career data labs</a></li>\n",
    "        <li><a href=\"/scholarships-for-veterans\" id=\"scholarship\">Veterans scholarship</a></li>\n",
    "        <li><a href=\"http://www.simplilearn.com/feed/\" id=\"rss\">RSS feed</a></li>\n",
    "    </ul>\"\"\""
   ]
  },
  {
   "cell_type": "code",
   "execution_count": 3,
   "metadata": {},
   "outputs": [],
   "source": [
    "soup=BeautifulSoup(data_SL,\"html.parser\")"
   ]
  },
  {
   "cell_type": "code",
   "execution_count": 4,
   "metadata": {},
   "outputs": [
    {
     "name": "stdout",
     "output_type": "stream",
     "text": [
      "\n",
      "Discover\n",
      "Free resources\n",
      "Simplilearn community\n",
      "Career data labs\n",
      "Veterans scholarship\n",
      "RSS feed\n",
      "\n"
     ]
    }
   ],
   "source": [
    "print(soup.get_text()) # retrive only the text data in html doc"
   ]
  },
  {
   "cell_type": "code",
   "execution_count": 5,
   "metadata": {},
   "outputs": [],
   "source": [
    "# part of the parser in the webdocument\n",
    "\n",
    "#SoupStrainer--------->used to parse onlt part of the data using Id\n",
    "\n",
    "from bs4 import SoupStrainer\n",
    "\n",
    "tagcomm=SoupStrainer(id=[\"community\",\"scholarship\"])\n"
   ]
  },
  {
   "cell_type": "code",
   "execution_count": 6,
   "metadata": {},
   "outputs": [
    {
     "name": "stdout",
     "output_type": "stream",
     "text": [
      "<a href=\"http://community.simplilearn.com/\" id=\"community\">Simplilearn community</a><a href=\"/scholarships-for-veterans\" id=\"scholarship\">Veterans scholarship</a>\n"
     ]
    }
   ],
   "source": [
    "#print the value\n",
    "soup1=BeautifulSoup(data_SL,\"html.parser\",parse_only=tagcomm)\n",
    "print(soup1)"
   ]
  },
  {
   "cell_type": "code",
   "execution_count": 7,
   "metadata": {},
   "outputs": [
    {
     "name": "stdout",
     "output_type": "stream",
     "text": [
      "<a href=\"http://community.simplilearn.com/\" id=\"community\">\n",
      " Simplilearn community\n",
      "</a>\n",
      "<a href=\"/scholarships-for-veterans\" id=\"scholarship\">\n",
      " Veterans scholarship\n",
      "</a>\n"
     ]
    }
   ],
   "source": [
    "# prettify\n",
    "print(soup1.prettify())"
   ]
  },
  {
   "cell_type": "code",
   "execution_count": null,
   "metadata": {},
   "outputs": [],
   "source": []
  }
 ],
 "metadata": {
  "kernelspec": {
   "display_name": "Python 3",
   "language": "python",
   "name": "python3"
  },
  "language_info": {
   "codemirror_mode": {
    "name": "ipython",
    "version": 3
   },
   "file_extension": ".py",
   "mimetype": "text/x-python",
   "name": "python",
   "nbconvert_exporter": "python",
   "pygments_lexer": "ipython3",
   "version": "3.7.6"
  }
 },
 "nbformat": 4,
 "nbformat_minor": 4
}
