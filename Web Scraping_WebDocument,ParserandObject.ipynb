{
 "cells": [
  {
   "cell_type": "code",
   "execution_count": 1,
   "metadata": {},
   "outputs": [],
   "source": [
    "#import bs4 the beautifulsoup library\n",
    "\n",
    "from bs4 import BeautifulSoup\n",
    "\n",
    "\n",
    "#create a html document\n",
    "\n",
    "\n",
    "html_doc=\"\"\"<html>\n",
    "<body>\n",
    "<h1>My First Heading</h1>\n",
    "<b><!--This is a comment line--></b>\n",
    "<p title=\"About Me\" class=\"test\">My first paragraph.</p>\n",
    "<div class=\"cities\">\n",
    "<h2>London</h2>\n",
    "</div>\n",
    "</body>\n",
    "</html>\"\"\"\n",
    "\n",
    "\n",
    "\n"
   ]
  },
  {
   "cell_type": "code",
   "execution_count": 2,
   "metadata": {},
   "outputs": [
    {
     "data": {
      "text/plain": [
       "<html>\n",
       "<body>\n",
       "<h1>My First Heading</h1>\n",
       "<b><!--This is a comment line--></b>\n",
       "<p class=\"test\" title=\"About Me\">My first paragraph.</p>\n",
       "<div class=\"cities\">\n",
       "<h2>London</h2>\n",
       "</div>\n",
       "</body>\n",
       "</html>"
      ]
     },
     "execution_count": 2,
     "metadata": {},
     "output_type": "execute_result"
    }
   ],
   "source": [
    "soup = BeautifulSoup(html_doc,'html.parser')\n",
    "soup"
   ]
  },
  {
   "cell_type": "code",
   "execution_count": 3,
   "metadata": {},
   "outputs": [
    {
     "data": {
      "text/plain": [
       "bs4.BeautifulSoup"
      ]
     },
     "execution_count": 3,
     "metadata": {},
     "output_type": "execute_result"
    }
   ],
   "source": [
    "#view the soup type\n",
    "type(soup)"
   ]
  },
  {
   "cell_type": "code",
   "execution_count": 4,
   "metadata": {},
   "outputs": [
    {
     "name": "stdout",
     "output_type": "stream",
     "text": [
      "<html>\n",
      "<body>\n",
      "<h1>My First Heading</h1>\n",
      "<b><!--This is a comment line--></b>\n",
      "<p class=\"test\" title=\"About Me\">My first paragraph.</p>\n",
      "<div class=\"cities\">\n",
      "<h2>London</h2>\n",
      "</div>\n",
      "</body>\n",
      "</html>\n"
     ]
    }
   ],
   "source": [
    "#view the soup object\n",
    "print (soup)"
   ]
  },
  {
   "cell_type": "code",
   "execution_count": 6,
   "metadata": {},
   "outputs": [],
   "source": [
    "#create a tag object\n",
    "tag1=soup.b   #to access the info related to the command, we can access data only using tags so here we use b tag to get info"
   ]
  },
  {
   "cell_type": "code",
   "execution_count": 7,
   "metadata": {},
   "outputs": [
    {
     "name": "stdout",
     "output_type": "stream",
     "text": [
      "<b><!--This is a comment line--></b>\n"
     ]
    }
   ],
   "source": [
    "#print the tag\n",
    "print(tag1)"
   ]
  },
  {
   "cell_type": "code",
   "execution_count": 10,
   "metadata": {},
   "outputs": [],
   "source": [
    "#create a comment object type\n",
    "tag2=soup.b.string  #i need only the comment"
   ]
  },
  {
   "cell_type": "code",
   "execution_count": 11,
   "metadata": {},
   "outputs": [
    {
     "name": "stdout",
     "output_type": "stream",
     "text": [
      "This is a comment line\n"
     ]
    }
   ],
   "source": [
    "#view the comment\n",
    "print(tag2)"
   ]
  },
  {
   "cell_type": "code",
   "execution_count": null,
   "metadata": {},
   "outputs": [],
   "source": []
  }
 ],
 "metadata": {
  "kernelspec": {
   "display_name": "Python 3",
   "language": "python",
   "name": "python3"
  },
  "language_info": {
   "codemirror_mode": {
    "name": "ipython",
    "version": 3
   },
   "file_extension": ".py",
   "mimetype": "text/x-python",
   "name": "python",
   "nbconvert_exporter": "python",
   "pygments_lexer": "ipython3",
   "version": "3.7.6"
  }
 },
 "nbformat": 4,
 "nbformat_minor": 4
}
